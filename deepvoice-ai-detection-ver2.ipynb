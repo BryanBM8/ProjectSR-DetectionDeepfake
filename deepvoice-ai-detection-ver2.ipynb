{
 "cells": [
  {
   "cell_type": "markdown",
   "id": "bbdfef7a",
   "metadata": {
    "papermill": {
     "duration": 0.008032,
     "end_time": "2024-06-12T12:07:25.376790",
     "exception": false,
     "start_time": "2024-06-12T12:07:25.368758",
     "status": "completed"
    },
    "tags": []
   },
   "source": [
    "# GETTING READY"
   ]
  },
  {
   "cell_type": "code",
   "execution_count": 1,
   "id": "ea43ea46",
   "metadata": {
    "_cell_guid": "b1076dfc-b9ad-4769-8c92-a6c4dae69d19",
    "_uuid": "8f2839f25d086af736a60e9eeb907d3b93b6e0e5",
    "execution": {
     "iopub.execute_input": "2024-06-12T12:07:25.394242Z",
     "iopub.status.busy": "2024-06-12T12:07:25.393806Z",
     "iopub.status.idle": "2024-06-12T12:07:26.496218Z",
     "shell.execute_reply": "2024-06-12T12:07:26.495009Z"
    },
    "papermill": {
     "duration": 1.114665,
     "end_time": "2024-06-12T12:07:26.499495",
     "exception": false,
     "start_time": "2024-06-12T12:07:25.384830",
     "status": "completed"
    },
    "tags": []
   },
   "outputs": [
    {
     "name": "stdout",
     "output_type": "stream",
     "text": [
      "/kaggle/input/deep-voice-deepfake-voice-recognition/KAGGLE/DATASET-balanced.csv\n",
      "/kaggle/input/deep-voice-deepfake-voice-recognition/KAGGLE/AUDIO/FAKE/trump-to-Obama.wav\n",
      "/kaggle/input/deep-voice-deepfake-voice-recognition/KAGGLE/AUDIO/FAKE/margot-to-musk.wav\n",
      "/kaggle/input/deep-voice-deepfake-voice-recognition/KAGGLE/AUDIO/FAKE/linus-to-obama.wav\n",
      "/kaggle/input/deep-voice-deepfake-voice-recognition/KAGGLE/AUDIO/FAKE/taylor-to-trump.wav\n",
      "/kaggle/input/deep-voice-deepfake-voice-recognition/KAGGLE/AUDIO/FAKE/taylor-to-biden.wav\n",
      "/kaggle/input/deep-voice-deepfake-voice-recognition/KAGGLE/AUDIO/FAKE/ryan-to-trump.wav\n",
      "/kaggle/input/deep-voice-deepfake-voice-recognition/KAGGLE/AUDIO/FAKE/obama-to-musk.wav\n",
      "/kaggle/input/deep-voice-deepfake-voice-recognition/KAGGLE/AUDIO/FAKE/musk-to-trump.wav\n",
      "/kaggle/input/deep-voice-deepfake-voice-recognition/KAGGLE/AUDIO/FAKE/ryan-to-musk.wav\n",
      "/kaggle/input/deep-voice-deepfake-voice-recognition/KAGGLE/AUDIO/FAKE/trump-to-musk.wav\n",
      "/kaggle/input/deep-voice-deepfake-voice-recognition/KAGGLE/AUDIO/FAKE/musk-to-ryan.wav\n",
      "/kaggle/input/deep-voice-deepfake-voice-recognition/KAGGLE/AUDIO/FAKE/trump-to-Biden.wav\n",
      "/kaggle/input/deep-voice-deepfake-voice-recognition/KAGGLE/AUDIO/FAKE/ryan-to-taylor.wav\n",
      "/kaggle/input/deep-voice-deepfake-voice-recognition/KAGGLE/AUDIO/FAKE/taylor-to-margot.wav\n",
      "/kaggle/input/deep-voice-deepfake-voice-recognition/KAGGLE/AUDIO/FAKE/taylor-to-linus.wav\n",
      "/kaggle/input/deep-voice-deepfake-voice-recognition/KAGGLE/AUDIO/FAKE/biden-to-margot.wav\n",
      "/kaggle/input/deep-voice-deepfake-voice-recognition/KAGGLE/AUDIO/FAKE/taylor-to-ryan.wav\n",
      "/kaggle/input/deep-voice-deepfake-voice-recognition/KAGGLE/AUDIO/FAKE/ryan-to-biden.wav\n",
      "/kaggle/input/deep-voice-deepfake-voice-recognition/KAGGLE/AUDIO/FAKE/ryan-to-obama.wav\n",
      "/kaggle/input/deep-voice-deepfake-voice-recognition/KAGGLE/AUDIO/FAKE/taylor-to-obama.wav\n",
      "/kaggle/input/deep-voice-deepfake-voice-recognition/KAGGLE/AUDIO/FAKE/margot-to-obama.wav\n",
      "/kaggle/input/deep-voice-deepfake-voice-recognition/KAGGLE/AUDIO/FAKE/ryan-to-margot.wav\n",
      "/kaggle/input/deep-voice-deepfake-voice-recognition/KAGGLE/AUDIO/FAKE/margot-to-trump.wav\n",
      "/kaggle/input/deep-voice-deepfake-voice-recognition/KAGGLE/AUDIO/FAKE/trump-to-taylor.wav\n",
      "/kaggle/input/deep-voice-deepfake-voice-recognition/KAGGLE/AUDIO/FAKE/margot-to-taylor.wav\n",
      "/kaggle/input/deep-voice-deepfake-voice-recognition/KAGGLE/AUDIO/FAKE/musk-to-margot.wav\n",
      "/kaggle/input/deep-voice-deepfake-voice-recognition/KAGGLE/AUDIO/FAKE/biden-to-linus.wav\n",
      "/kaggle/input/deep-voice-deepfake-voice-recognition/KAGGLE/AUDIO/FAKE/linus-to-ryan.wav\n",
      "/kaggle/input/deep-voice-deepfake-voice-recognition/KAGGLE/AUDIO/FAKE/biden-to-Trump.wav\n",
      "/kaggle/input/deep-voice-deepfake-voice-recognition/KAGGLE/AUDIO/FAKE/biden-to-ryan.wav\n",
      "/kaggle/input/deep-voice-deepfake-voice-recognition/KAGGLE/AUDIO/FAKE/linus-to-margot.wav\n",
      "/kaggle/input/deep-voice-deepfake-voice-recognition/KAGGLE/AUDIO/FAKE/biden-to-musk.wav\n",
      "/kaggle/input/deep-voice-deepfake-voice-recognition/KAGGLE/AUDIO/FAKE/obama-to-margot.wav\n",
      "/kaggle/input/deep-voice-deepfake-voice-recognition/KAGGLE/AUDIO/FAKE/biden-to-Obama.wav\n",
      "/kaggle/input/deep-voice-deepfake-voice-recognition/KAGGLE/AUDIO/FAKE/trump-to-margot.wav\n",
      "/kaggle/input/deep-voice-deepfake-voice-recognition/KAGGLE/AUDIO/FAKE/linus-to-biden.wav\n",
      "/kaggle/input/deep-voice-deepfake-voice-recognition/KAGGLE/AUDIO/FAKE/obama-to-taylor.wav\n",
      "/kaggle/input/deep-voice-deepfake-voice-recognition/KAGGLE/AUDIO/FAKE/linus-to-trump.wav\n",
      "/kaggle/input/deep-voice-deepfake-voice-recognition/KAGGLE/AUDIO/FAKE/biden-to-taylor.wav\n",
      "/kaggle/input/deep-voice-deepfake-voice-recognition/KAGGLE/AUDIO/FAKE/margot-to-ryan.wav\n",
      "/kaggle/input/deep-voice-deepfake-voice-recognition/KAGGLE/AUDIO/FAKE/trump-to-linus.wav\n",
      "/kaggle/input/deep-voice-deepfake-voice-recognition/KAGGLE/AUDIO/FAKE/Obama-to-Biden.wav\n",
      "/kaggle/input/deep-voice-deepfake-voice-recognition/KAGGLE/AUDIO/FAKE/linus-to-taylor.wav\n",
      "/kaggle/input/deep-voice-deepfake-voice-recognition/KAGGLE/AUDIO/FAKE/trump-to-ryan.wav\n",
      "/kaggle/input/deep-voice-deepfake-voice-recognition/KAGGLE/AUDIO/FAKE/taylor-to-musk.wav\n",
      "/kaggle/input/deep-voice-deepfake-voice-recognition/KAGGLE/AUDIO/FAKE/margot-to-biden.wav\n",
      "/kaggle/input/deep-voice-deepfake-voice-recognition/KAGGLE/AUDIO/FAKE/musk-to-linus.wav\n",
      "/kaggle/input/deep-voice-deepfake-voice-recognition/KAGGLE/AUDIO/FAKE/musk-to-obama.wav\n",
      "/kaggle/input/deep-voice-deepfake-voice-recognition/KAGGLE/AUDIO/FAKE/obama-to-linus.wav\n",
      "/kaggle/input/deep-voice-deepfake-voice-recognition/KAGGLE/AUDIO/FAKE/ryan-to-linus.wav\n",
      "/kaggle/input/deep-voice-deepfake-voice-recognition/KAGGLE/AUDIO/FAKE/Obama-to-Trump.wav\n",
      "/kaggle/input/deep-voice-deepfake-voice-recognition/KAGGLE/AUDIO/FAKE/obama-to-ryan.wav\n",
      "/kaggle/input/deep-voice-deepfake-voice-recognition/KAGGLE/AUDIO/FAKE/musk-to-taylor.wav\n",
      "/kaggle/input/deep-voice-deepfake-voice-recognition/KAGGLE/AUDIO/FAKE/linus-to-musk.wav\n",
      "/kaggle/input/deep-voice-deepfake-voice-recognition/KAGGLE/AUDIO/FAKE/musk-to-biden.wav\n",
      "/kaggle/input/deep-voice-deepfake-voice-recognition/KAGGLE/AUDIO/FAKE/margot-to-linus.wav\n",
      "/kaggle/input/deep-voice-deepfake-voice-recognition/KAGGLE/AUDIO/REAL/biden-original.wav\n",
      "/kaggle/input/deep-voice-deepfake-voice-recognition/KAGGLE/AUDIO/REAL/trump-original.wav\n",
      "/kaggle/input/deep-voice-deepfake-voice-recognition/KAGGLE/AUDIO/REAL/taylor-original.wav\n",
      "/kaggle/input/deep-voice-deepfake-voice-recognition/KAGGLE/AUDIO/REAL/obama-original.wav\n",
      "/kaggle/input/deep-voice-deepfake-voice-recognition/KAGGLE/AUDIO/REAL/margot-original.wav\n",
      "/kaggle/input/deep-voice-deepfake-voice-recognition/KAGGLE/AUDIO/REAL/linus-original.wav\n",
      "/kaggle/input/deep-voice-deepfake-voice-recognition/KAGGLE/AUDIO/REAL/musk-original.wav\n",
      "/kaggle/input/deep-voice-deepfake-voice-recognition/KAGGLE/AUDIO/REAL/ryan-original.wav\n",
      "/kaggle/input/deep-voice-deepfake-voice-recognition/DEMONSTRATION/DEMONSTRATION/linus-original-DEMO.mp3\n",
      "/kaggle/input/deep-voice-deepfake-voice-recognition/DEMONSTRATION/DEMONSTRATION/linus-to-musk-DEMO.mp3\n"
     ]
    }
   ],
   "source": [
    "# This Python 3 environment comes with many helpful analytics libraries installed\n",
    "# It is defined by the kaggle/python Docker image: https://github.com/kaggle/docker-python\n",
    "# For example, here's several helpful packages to load\n",
    "\n",
    "import numpy as np # linear algebra\n",
    "import pandas as pd # data processing, CSV file I/O (e.g. pd.read_csv)\n",
    "\n",
    "# Input data files are available in the read-only \"../input/\" directory\n",
    "# For example, running this (by clicking run or pressing Shift+Enter) will list all files under the input directory\n",
    "\n",
    "import os\n",
    "for dirname, _, filenames in os.walk('/kaggle/input'):\n",
    "    for filename in filenames:\n",
    "        print(os.path.join(dirname, filename))\n",
    "\n",
    "# You can write up to 20GB to the current directory (/kaggle/working/) that gets preserved as output when you create a version using \"Save & Run All\" \n",
    "# You can also write temporary files to /kaggle/temp/, but they won't be saved outside of the current session"
   ]
  },
  {
   "cell_type": "code",
   "execution_count": 2,
   "id": "c910238f",
   "metadata": {
    "execution": {
     "iopub.execute_input": "2024-06-12T12:07:26.517012Z",
     "iopub.status.busy": "2024-06-12T12:07:26.516437Z",
     "iopub.status.idle": "2024-06-12T12:07:58.475875Z",
     "shell.execute_reply": "2024-06-12T12:07:58.474378Z"
    },
    "papermill": {
     "duration": 31.971574,
     "end_time": "2024-06-12T12:07:58.478904",
     "exception": false,
     "start_time": "2024-06-12T12:07:26.507330",
     "status": "completed"
    },
    "tags": []
   },
   "outputs": [
    {
     "name": "stdout",
     "output_type": "stream",
     "text": [
      "Requirement already satisfied: librosa in /opt/conda/lib/python3.10/site-packages (0.10.2.post1)\r\n",
      "Requirement already satisfied: audioread>=2.1.9 in /opt/conda/lib/python3.10/site-packages (from librosa) (3.0.1)\r\n",
      "Requirement already satisfied: numpy!=1.22.0,!=1.22.1,!=1.22.2,>=1.20.3 in /opt/conda/lib/python3.10/site-packages (from librosa) (1.26.4)\r\n",
      "Requirement already satisfied: scipy>=1.2.0 in /opt/conda/lib/python3.10/site-packages (from librosa) (1.11.4)\r\n",
      "Requirement already satisfied: scikit-learn>=0.20.0 in /opt/conda/lib/python3.10/site-packages (from librosa) (1.2.2)\r\n",
      "Requirement already satisfied: joblib>=0.14 in /opt/conda/lib/python3.10/site-packages (from librosa) (1.4.2)\r\n",
      "Requirement already satisfied: decorator>=4.3.0 in /opt/conda/lib/python3.10/site-packages (from librosa) (5.1.1)\r\n",
      "Requirement already satisfied: numba>=0.51.0 in /opt/conda/lib/python3.10/site-packages (from librosa) (0.58.1)\r\n",
      "Requirement already satisfied: soundfile>=0.12.1 in /opt/conda/lib/python3.10/site-packages (from librosa) (0.12.1)\r\n",
      "Requirement already satisfied: pooch>=1.1 in /opt/conda/lib/python3.10/site-packages (from librosa) (1.8.1)\r\n",
      "Requirement already satisfied: soxr>=0.3.2 in /opt/conda/lib/python3.10/site-packages (from librosa) (0.3.7)\r\n",
      "Requirement already satisfied: typing-extensions>=4.1.1 in /opt/conda/lib/python3.10/site-packages (from librosa) (4.9.0)\r\n",
      "Requirement already satisfied: lazy-loader>=0.1 in /opt/conda/lib/python3.10/site-packages (from librosa) (0.3)\r\n",
      "Requirement already satisfied: msgpack>=1.0 in /opt/conda/lib/python3.10/site-packages (from librosa) (1.0.7)\r\n",
      "Requirement already satisfied: llvmlite<0.42,>=0.41.0dev0 in /opt/conda/lib/python3.10/site-packages (from numba>=0.51.0->librosa) (0.41.1)\r\n",
      "Requirement already satisfied: platformdirs>=2.5.0 in /opt/conda/lib/python3.10/site-packages (from pooch>=1.1->librosa) (3.11.0)\r\n",
      "Requirement already satisfied: packaging>=20.0 in /opt/conda/lib/python3.10/site-packages (from pooch>=1.1->librosa) (21.3)\r\n",
      "Requirement already satisfied: requests>=2.19.0 in /opt/conda/lib/python3.10/site-packages (from pooch>=1.1->librosa) (2.32.3)\r\n",
      "Requirement already satisfied: threadpoolctl>=2.0.0 in /opt/conda/lib/python3.10/site-packages (from scikit-learn>=0.20.0->librosa) (3.2.0)\r\n",
      "Requirement already satisfied: cffi>=1.0 in /opt/conda/lib/python3.10/site-packages (from soundfile>=0.12.1->librosa) (1.16.0)\r\n",
      "Requirement already satisfied: pycparser in /opt/conda/lib/python3.10/site-packages (from cffi>=1.0->soundfile>=0.12.1->librosa) (2.21)\r\n",
      "Requirement already satisfied: pyparsing!=3.0.5,>=2.0.2 in /opt/conda/lib/python3.10/site-packages (from packaging>=20.0->pooch>=1.1->librosa) (3.1.1)\r\n",
      "Requirement already satisfied: charset-normalizer<4,>=2 in /opt/conda/lib/python3.10/site-packages (from requests>=2.19.0->pooch>=1.1->librosa) (3.3.2)\r\n",
      "Requirement already satisfied: idna<4,>=2.5 in /opt/conda/lib/python3.10/site-packages (from requests>=2.19.0->pooch>=1.1->librosa) (3.6)\r\n",
      "Requirement already satisfied: urllib3<3,>=1.21.1 in /opt/conda/lib/python3.10/site-packages (from requests>=2.19.0->pooch>=1.1->librosa) (1.26.18)\r\n",
      "Requirement already satisfied: certifi>=2017.4.17 in /opt/conda/lib/python3.10/site-packages (from requests>=2.19.0->pooch>=1.1->librosa) (2024.2.2)\r\n",
      "Requirement already satisfied: pydub in /opt/conda/lib/python3.10/site-packages (0.25.1)\r\n"
     ]
    }
   ],
   "source": [
    "!pip install librosa\n",
    "!pip install pydub"
   ]
  },
  {
   "cell_type": "code",
   "execution_count": 3,
   "id": "6b155ed0",
   "metadata": {
    "execution": {
     "iopub.execute_input": "2024-06-12T12:07:58.498423Z",
     "iopub.status.busy": "2024-06-12T12:07:58.497966Z",
     "iopub.status.idle": "2024-06-12T12:09:12.492991Z",
     "shell.execute_reply": "2024-06-12T12:09:12.490247Z"
    },
    "papermill": {
     "duration": 74.011255,
     "end_time": "2024-06-12T12:09:12.498837",
     "exception": false,
     "start_time": "2024-06-12T12:07:58.487582",
     "status": "completed"
    },
    "tags": []
   },
   "outputs": [],
   "source": [
    "import os\n",
    "import librosa\n",
    "from pydub import AudioSegment\n",
    "import random\n",
    "\n",
    "dataset_path = \"/kaggle/input/deep-voice-deepfake-voice-recognition/KAGGLE/AUDIO\"\n",
    "augmented_dataset_path = \"/kaggle/working/SPLITTED\"\n",
    "\n",
    "# bikin directory untuk data audio\n",
    "os.makedirs(augmented_dataset_path, exist_ok=True)\n",
    "os.makedirs(os.path.join(augmented_dataset_path, \"FAKE\"), exist_ok=True)\n",
    "os.makedirs(os.path.join(augmented_dataset_path, \"REAL\"), exist_ok=True)\n",
    "\n",
    "def split_audio_file(file_path, output_dir, segment_length=10):\n",
    "    audio = AudioSegment.from_wav(file_path)\n",
    "    duration = audio.duration_seconds\n",
    "    segment_length_ms = segment_length * 1000  # dalam milliseconds\n",
    "\n",
    "    segments = []\n",
    "    for i in range(0, len(audio), segment_length_ms):\n",
    "        segment = audio[i:i + segment_length_ms]\n",
    "        segment_file_name = f\"{os.path.splitext(os.path.basename(file_path))[0]}_part{i // segment_length_ms}.wav\"\n",
    "        segment_path = os.path.join(output_dir, segment_file_name)\n",
    "        segment.export(segment_path, format=\"wav\")\n",
    "        segments.append(segment_path)\n",
    "    return segments\n",
    "\n",
    "# split audio menjadi sample\" 10 detik agar data semakin banyak\n",
    "real_samples_path = os.path.join(dataset_path, \"REAL\")\n",
    "for file_name in os.listdir(real_samples_path):\n",
    "    file_path = os.path.join(real_samples_path, file_name)\n",
    "    output_dir = os.path.join(augmented_dataset_path, \"REAL\")\n",
    "    split_audio_file(file_path, output_dir)\n",
    "\n",
    "fake_samples_path = os.path.join(dataset_path, \"FAKE\")\n",
    "fake_segments = []\n",
    "for file_name in os.listdir(fake_samples_path):\n",
    "    file_path = os.path.join(fake_samples_path, file_name)\n",
    "    output_dir = os.path.join(augmented_dataset_path, \"FAKE\")\n",
    "    fake_segments.extend(split_audio_file(file_path, output_dir))\n",
    "\n",
    "# pilih data AI voice secara random sebanyak data real yang ada agar seimbang\n",
    "selected_fake_segments = random.sample(fake_segments, len(os.listdir(\"/kaggle/working/SPLITTED/REAL\")))\n",
    "\n",
    "# bikin dan isi directory untuk data AI voice yang terpilih\n",
    "selected_fake_path = os.path.join(augmented_dataset_path, \"SELECTED_FAKE\")\n",
    "os.makedirs(selected_fake_path, exist_ok=True)\n",
    "\n",
    "for segment in selected_fake_segments:\n",
    "    segment_file_name = os.path.basename(segment)\n",
    "    os.rename(segment, os.path.join(selected_fake_path, segment_file_name))"
   ]
  },
  {
   "cell_type": "markdown",
   "id": "60b600f9",
   "metadata": {
    "papermill": {
     "duration": 0.008467,
     "end_time": "2024-06-12T12:09:12.518879",
     "exception": false,
     "start_time": "2024-06-12T12:09:12.510412",
     "status": "completed"
    },
    "tags": []
   },
   "source": [
    "# NAIVE BAYES"
   ]
  },
  {
   "cell_type": "code",
   "execution_count": 4,
   "id": "21de77a9",
   "metadata": {
    "execution": {
     "iopub.execute_input": "2024-06-12T12:09:12.539318Z",
     "iopub.status.busy": "2024-06-12T12:09:12.538816Z",
     "iopub.status.idle": "2024-06-12T12:10:49.035079Z",
     "shell.execute_reply": "2024-06-12T12:10:49.033292Z"
    },
    "papermill": {
     "duration": 96.530521,
     "end_time": "2024-06-12T12:10:49.057835",
     "exception": false,
     "start_time": "2024-06-12T12:09:12.527314",
     "status": "completed"
    },
    "tags": []
   },
   "outputs": [
    {
     "name": "stderr",
     "output_type": "stream",
     "text": [
      "/opt/conda/lib/python3.10/site-packages/librosa/core/spectrum.py:266: UserWarning: n_fft=2048 is too large for input signal of length=144\n",
      "  warnings.warn(\n"
     ]
    },
    {
     "name": "stdout",
     "output_type": "stream",
     "text": [
      "Accuracy: 0.8562091503267973\n",
      "Precision: 0.9090909090909091\n",
      "Recall: 0.7894736842105263\n",
      "F1-score: 0.8450704225352113\n"
     ]
    }
   ],
   "source": [
    "import os\n",
    "import numpy as np\n",
    "import librosa\n",
    "from sklearn.model_selection import train_test_split\n",
    "from sklearn.naive_bayes import GaussianNB\n",
    "from sklearn.metrics import accuracy_score, precision_score, recall_score, f1_score\n",
    "\n",
    "# extract fitur MFCC\n",
    "def extract_features(file_path, n_mfcc=13):\n",
    "    y, sr = librosa.load(file_path, sr=None)\n",
    "    mfccs = librosa.feature.mfcc(y=y, sr=sr, n_mfcc=n_mfcc)\n",
    "    return np.mean(mfccs.T, axis=0)\n",
    "\n",
    "fake_samples_path = \"/kaggle/working/SPLITTED/SELECTED_FAKE\"\n",
    "real_samples_path = \"/kaggle/working/SPLITTED/REAL\"\n",
    "\n",
    "features = []\n",
    "labels = []\n",
    "\n",
    "# ambil data AI voice\n",
    "for file_name in os.listdir(fake_samples_path):\n",
    "    file_path = os.path.join(fake_samples_path, file_name)\n",
    "    if file_path.endswith('.wav'):\n",
    "        features.append(extract_features(file_path))\n",
    "        labels.append(0)  # Label 0 for fake\n",
    "        \n",
    "# ambil data real voice\n",
    "for file_name in os.listdir(real_samples_path):\n",
    "    file_path = os.path.join(real_samples_path, file_name)\n",
    "    if file_path.endswith('.wav'):\n",
    "        features.append(extract_features(file_path))\n",
    "        labels.append(1)  # Label 1 for real\n",
    "\n",
    "# split data menjadi training dan testing\n",
    "X = np.array(features)\n",
    "y = np.array(labels)\n",
    "X_train, X_test, y_train, y_test = train_test_split(X, y, test_size=0.2, random_state=42, stratify=y)\n",
    "\n",
    "# inisialisasi model\n",
    "model = GaussianNB()\n",
    "\n",
    "# training model\n",
    "model.fit(X_train, y_train)\n",
    "\n",
    "# simpan prediksi model\n",
    "y_pred = model.predict(X_test)\n",
    "\n",
    "# evaluasi model\n",
    "accuracy = accuracy_score(y_test, y_pred)\n",
    "precision = precision_score(y_test, y_pred)\n",
    "recall = recall_score(y_test, y_pred)\n",
    "f1 = f1_score(y_test, y_pred)\n",
    "\n",
    "print(f\"Accuracy: {accuracy}\")\n",
    "print(f\"Precision: {precision}\")\n",
    "print(f\"Recall: {recall}\")\n",
    "print(f\"F1-score: {f1}\")\n"
   ]
  },
  {
   "cell_type": "code",
   "execution_count": 5,
   "id": "7debf4be",
   "metadata": {
    "execution": {
     "iopub.execute_input": "2024-06-12T12:10:49.098190Z",
     "iopub.status.busy": "2024-06-12T12:10:49.096957Z",
     "iopub.status.idle": "2024-06-12T12:10:49.859507Z",
     "shell.execute_reply": "2024-06-12T12:10:49.858055Z"
    },
    "papermill": {
     "duration": 0.786045,
     "end_time": "2024-06-12T12:10:49.862280",
     "exception": false,
     "start_time": "2024-06-12T12:10:49.076235",
     "status": "completed"
    },
    "tags": []
   },
   "outputs": [
    {
     "data": {
      "image/png": "[encoded data removed]",
      "text/plain": [
       "<Figure size 600x400 with 2 Axes>"
      ]
     },
     "metadata": {},
     "output_type": "display_data"
    }
   ],
   "source": [
    "import matplotlib.pyplot as plt\n",
    "from sklearn.metrics import confusion_matrix, classification_report\n",
    "import seaborn as sns\n",
    "\n",
    "# print confusion matrix\n",
    "cm = confusion_matrix(y_test, y_pred)\n",
    "\n",
    "plt.figure(figsize=(6, 4))\n",
    "sns.heatmap(cm, annot=True, fmt=\"d\", cmap=\"Blues\", xticklabels=[\"Fake\", \"Real\"], yticklabels=[\"Fake\", \"Real\"])\n",
    "plt.xlabel(\"Predicted\")\n",
    "plt.ylabel(\"Actual\")\n",
    "plt.title(\"Confusion Matrix\")\n",
    "plt.show()"
   ]
  },
  {
   "cell_type": "code",
   "execution_count": 6,
   "id": "0866cbe4",
   "metadata": {
    "execution": {
     "iopub.execute_input": "2024-06-12T12:10:49.884251Z",
     "iopub.status.busy": "2024-06-12T12:10:49.883799Z",
     "iopub.status.idle": "2024-06-12T12:10:49.901113Z",
     "shell.execute_reply": "2024-06-12T12:10:49.899521Z"
    },
    "papermill": {
     "duration": 0.031305,
     "end_time": "2024-06-12T12:10:49.903845",
     "exception": false,
     "start_time": "2024-06-12T12:10:49.872540",
     "status": "completed"
    },
    "tags": []
   },
   "outputs": [
    {
     "name": "stdout",
     "output_type": "stream",
     "text": [
      "              precision    recall  f1-score   support\n",
      "\n",
      "           0       0.82      0.92      0.87        77\n",
      "           1       0.91      0.79      0.85        76\n",
      "\n",
      "    accuracy                           0.86       153\n",
      "   macro avg       0.86      0.86      0.86       153\n",
      "weighted avg       0.86      0.86      0.86       153\n",
      "\n"
     ]
    }
   ],
   "source": [
    "from sklearn.metrics import classification_report\n",
    "\n",
    "print(classification_report(y_test, y_pred))"
   ]
  },
  {
   "cell_type": "markdown",
   "id": "9956c93e",
   "metadata": {
    "papermill": {
     "duration": 0.008881,
     "end_time": "2024-06-12T12:10:49.922103",
     "exception": false,
     "start_time": "2024-06-12T12:10:49.913222",
     "status": "completed"
    },
    "tags": []
   },
   "source": [
    "# KNN"
   ]
  },
  {
   "cell_type": "code",
   "execution_count": 7,
   "id": "4ab7dee6",
   "metadata": {
    "execution": {
     "iopub.execute_input": "2024-06-12T12:10:49.942705Z",
     "iopub.status.busy": "2024-06-12T12:10:49.942257Z",
     "iopub.status.idle": "2024-06-12T12:10:50.144912Z",
     "shell.execute_reply": "2024-06-12T12:10:50.143433Z"
    },
    "papermill": {
     "duration": 0.216951,
     "end_time": "2024-06-12T12:10:50.148225",
     "exception": false,
     "start_time": "2024-06-12T12:10:49.931274",
     "status": "completed"
    },
    "tags": []
   },
   "outputs": [],
   "source": [
    "from sklearn.neighbors import KNeighborsClassifier"
   ]
  },
  {
   "cell_type": "code",
   "execution_count": 8,
   "id": "2d125fe6",
   "metadata": {
    "execution": {
     "iopub.execute_input": "2024-06-12T12:10:50.169483Z",
     "iopub.status.busy": "2024-06-12T12:10:50.168505Z",
     "iopub.status.idle": "2024-06-12T12:10:50.201150Z",
     "shell.execute_reply": "2024-06-12T12:10:50.199432Z"
    },
    "papermill": {
     "duration": 0.046439,
     "end_time": "2024-06-12T12:10:50.204047",
     "exception": false,
     "start_time": "2024-06-12T12:10:50.157608",
     "status": "completed"
    },
    "tags": []
   },
   "outputs": [
    {
     "name": "stdout",
     "output_type": "stream",
     "text": [
      "Accuracy: 0.9738562091503268\n",
      "Precision: 0.9736842105263158\n",
      "Recall: 0.9736842105263158\n",
      "F1-score: 0.9736842105263158\n"
     ]
    }
   ],
   "source": [
    "# panggil model KNN\n",
    "knn = KNeighborsClassifier()\n",
    "\n",
    "# training model KNN\n",
    "knn.fit(X_train, y_train)\n",
    "y_pred = knn.predict(X_test)\n",
    "\n",
    "# evaluasi model\n",
    "accuracy = accuracy_score(y_test, y_pred)\n",
    "precision = precision_score(y_test, y_pred)\n",
    "recall = recall_score(y_test, y_pred)\n",
    "f1 = f1_score(y_test, y_pred)\n",
    "\n",
    "print(f\"Accuracy: {accuracy}\")\n",
    "print(f\"Precision: {precision}\")\n",
    "print(f\"Recall: {recall}\")\n",
    "print(f\"F1-score: {f1}\")"
   ]
  },
  {
   "cell_type": "code",
   "execution_count": 9,
   "id": "a0e0f84d",
   "metadata": {
    "execution": {
     "iopub.execute_input": "2024-06-12T12:10:50.226565Z",
     "iopub.status.busy": "2024-06-12T12:10:50.226078Z",
     "iopub.status.idle": "2024-06-12T12:10:50.567296Z",
     "shell.execute_reply": "2024-06-12T12:10:50.565535Z"
    },
    "papermill": {
     "duration": 0.35499,
     "end_time": "2024-06-12T12:10:50.570378",
     "exception": false,
     "start_time": "2024-06-12T12:10:50.215388",
     "status": "completed"
    },
    "tags": []
   },
   "outputs": [
    {
     "data": {
      "image/png": "[encoded data removed]",
      "text/plain": [
       "<Figure size 600x400 with 2 Axes>"
      ]
     },
     "metadata": {},
     "output_type": "display_data"
    }
   ],
   "source": [
    "# print confusion matrix\n",
    "cm = confusion_matrix(y_test, y_pred)\n",
    "\n",
    "plt.figure(figsize=(6,4))\n",
    "sns.heatmap(cm, annot=True, fmt=\"d\", cmap=\"Blues\", xticklabels=[\"Fake\", \"Real\"], yticklabels=[\"Fake\", \"Real\"])\n",
    "plt.xlabel(\"Predicted\")\n",
    "plt.ylabel(\"Actual\")\n",
    "plt.title(\"Confusion Matrix\")\n",
    "plt.show()"
   ]
  },
  {
   "cell_type": "code",
   "execution_count": 10,
   "id": "b541acb4",
   "metadata": {
    "execution": {
     "iopub.execute_input": "2024-06-12T12:10:50.592285Z",
     "iopub.status.busy": "2024-06-12T12:10:50.591794Z",
     "iopub.status.idle": "2024-06-12T12:10:50.610445Z",
     "shell.execute_reply": "2024-06-12T12:10:50.608759Z"
    },
    "papermill": {
     "duration": 0.033328,
     "end_time": "2024-06-12T12:10:50.613669",
     "exception": false,
     "start_time": "2024-06-12T12:10:50.580341",
     "status": "completed"
    },
    "tags": []
   },
   "outputs": [
    {
     "name": "stdout",
     "output_type": "stream",
     "text": [
      "              precision    recall  f1-score   support\n",
      "\n",
      "           0       0.97      0.97      0.97        77\n",
      "           1       0.97      0.97      0.97        76\n",
      "\n",
      "    accuracy                           0.97       153\n",
      "   macro avg       0.97      0.97      0.97       153\n",
      "weighted avg       0.97      0.97      0.97       153\n",
      "\n"
     ]
    }
   ],
   "source": [
    "from sklearn.metrics import classification_report\n",
    "\n",
    "print(classification_report(y_test, y_pred))"
   ]
  },
  {
   "cell_type": "markdown",
   "id": "d185a0fc",
   "metadata": {
    "papermill": {
     "duration": 0.009558,
     "end_time": "2024-06-12T12:10:50.633114",
     "exception": false,
     "start_time": "2024-06-12T12:10:50.623556",
     "status": "completed"
    },
    "tags": []
   },
   "source": [
    "# SVC"
   ]
  },
  {
   "cell_type": "code",
   "execution_count": 11,
   "id": "36c687a2",
   "metadata": {
    "execution": {
     "iopub.execute_input": "2024-06-12T12:10:50.654935Z",
     "iopub.status.busy": "2024-06-12T12:10:50.654479Z",
     "iopub.status.idle": "2024-06-12T12:10:50.683320Z",
     "shell.execute_reply": "2024-06-12T12:10:50.681992Z"
    },
    "papermill": {
     "duration": 0.04333,
     "end_time": "2024-06-12T12:10:50.686352",
     "exception": false,
     "start_time": "2024-06-12T12:10:50.643022",
     "status": "completed"
    },
    "tags": []
   },
   "outputs": [],
   "source": [
    "from sklearn.svm import SVC\n",
    "from sklearn.preprocessing import RobustScaler\n",
    "from sklearn.pipeline import make_pipeline, Pipeline\n",
    "from sklearn.feature_selection import SelectKBest, f_classif\n",
    "from sklearn.model_selection import GridSearchCV\n",
    "import soundfile as sf\n",
    "import random"
   ]
  },
  {
   "cell_type": "code",
   "execution_count": 12,
   "id": "2c5f26fc",
   "metadata": {
    "execution": {
     "iopub.execute_input": "2024-06-12T12:10:50.708739Z",
     "iopub.status.busy": "2024-06-12T12:10:50.708206Z",
     "iopub.status.idle": "2024-06-12T12:10:50.719673Z",
     "shell.execute_reply": "2024-06-12T12:10:50.718274Z"
    },
    "papermill": {
     "duration": 0.026222,
     "end_time": "2024-06-12T12:10:50.722767",
     "exception": false,
     "start_time": "2024-06-12T12:10:50.696545",
     "status": "completed"
    },
    "tags": []
   },
   "outputs": [],
   "source": [
    "# inisialisasi selector untuk menentukan K terbaik\n",
    "selector = SelectKBest(f_classif, k='all')\n",
    "X_new = selector.fit_transform(X_train, y_train)"
   ]
  },
  {
   "cell_type": "code",
   "execution_count": 13,
   "id": "2674bb20",
   "metadata": {
    "execution": {
     "iopub.execute_input": "2024-06-12T12:10:50.745314Z",
     "iopub.status.busy": "2024-06-12T12:10:50.744896Z",
     "iopub.status.idle": "2024-06-12T12:11:46.193085Z",
     "shell.execute_reply": "2024-06-12T12:11:46.191537Z"
    },
    "papermill": {
     "duration": 55.470536,
     "end_time": "2024-06-12T12:11:46.203880",
     "exception": false,
     "start_time": "2024-06-12T12:10:50.733344",
     "status": "completed"
    },
    "tags": []
   },
   "outputs": [
    {
     "name": "stdout",
     "output_type": "stream",
     "text": [
      "Best parameters: {'selector__k': 11, 'svm__C': 1, 'svm__gamma': 'scale', 'svm__kernel': 'rbf'}\n",
      "Best score: 0.9950819672131148\n"
     ]
    }
   ],
   "source": [
    "# panggil parameter yang dibutuhkan\n",
    "pipeline = Pipeline([\n",
    "    ('scaler', RobustScaler()),\n",
    "    ('selector', SelectKBest(f_classif)),\n",
    "    ('svm', SVC(probability=True))\n",
    "])\n",
    "\n",
    "# inisialisasi parameter\n",
    "param_grid = {\n",
    "    'selector__k': [3, 6, 9, 11, 13],\n",
    "    'svm__C': [0.1, 1, 10, 100],\n",
    "    'svm__gamma': ['scale', 'auto'],\n",
    "    'svm__kernel': ['linear', 'rbf']\n",
    "}\n",
    "\n",
    "# memilih parameter yang terbaik\n",
    "grid_search = GridSearchCV(pipeline, param_grid, cv=5, scoring='accuracy')\n",
    "\n",
    "grid_search.fit(X_train, y_train)\n",
    "\n",
    "print(f'Best parameters: {grid_search.best_params_}')\n",
    "print(f'Best score: {grid_search.best_score_}')"
   ]
  },
  {
   "cell_type": "code",
   "execution_count": 14,
   "id": "53b67565",
   "metadata": {
    "execution": {
     "iopub.execute_input": "2024-06-12T12:11:46.225629Z",
     "iopub.status.busy": "2024-06-12T12:11:46.225119Z",
     "iopub.status.idle": "2024-06-12T12:11:46.233910Z",
     "shell.execute_reply": "2024-06-12T12:11:46.232544Z"
    },
    "papermill": {
     "duration": 0.0232,
     "end_time": "2024-06-12T12:11:46.236969",
     "exception": false,
     "start_time": "2024-06-12T12:11:46.213769",
     "status": "completed"
    },
    "tags": []
   },
   "outputs": [],
   "source": [
    "# buat prediksi\n",
    "best_model = grid_search.best_estimator_\n",
    "y_pred = best_model.predict(X_test)"
   ]
  },
  {
   "cell_type": "code",
   "execution_count": 15,
   "id": "871c0c63",
   "metadata": {
    "execution": {
     "iopub.execute_input": "2024-06-12T12:11:46.258728Z",
     "iopub.status.busy": "2024-06-12T12:11:46.258221Z",
     "iopub.status.idle": "2024-06-12T12:11:46.274440Z",
     "shell.execute_reply": "2024-06-12T12:11:46.272950Z"
    },
    "papermill": {
     "duration": 0.030337,
     "end_time": "2024-06-12T12:11:46.277163",
     "exception": false,
     "start_time": "2024-06-12T12:11:46.246826",
     "status": "completed"
    },
    "tags": []
   },
   "outputs": [
    {
     "name": "stdout",
     "output_type": "stream",
     "text": [
      "Accuracy: 0.9934640522875817\n",
      "Precision: 1.0\n",
      "Recall: 0.9868421052631579\n",
      "F1-score: 0.9933774834437086\n"
     ]
    }
   ],
   "source": [
    "# evaluasi model\n",
    "accuracy = accuracy_score(y_test, y_pred)\n",
    "precision = precision_score(y_test, y_pred)\n",
    "recall = recall_score(y_test, y_pred)\n",
    "f1 = f1_score(y_test, y_pred)\n",
    "\n",
    "print(f\"Accuracy: {accuracy}\")\n",
    "print(f\"Precision: {precision}\")\n",
    "print(f\"Recall: {recall}\")\n",
    "print(f\"F1-score: {f1}\")"
   ]
  },
  {
   "cell_type": "code",
   "execution_count": 16,
   "id": "3f870257",
   "metadata": {
    "execution": {
     "iopub.execute_input": "2024-06-12T12:11:46.299534Z",
     "iopub.status.busy": "2024-06-12T12:11:46.299092Z",
     "iopub.status.idle": "2024-06-12T12:11:46.633753Z",
     "shell.execute_reply": "2024-06-12T12:11:46.632398Z"
    },
    "papermill": {
     "duration": 0.348961,
     "end_time": "2024-06-12T12:11:46.636713",
     "exception": false,
     "start_time": "2024-06-12T12:11:46.287752",
     "status": "completed"
    },
    "tags": []
   },
   "outputs": [
    {
     "data": {
      "image/png": "[encoded data removed]",
      "text/plain": [
       "<Figure size 600x400 with 2 Axes>"
      ]
     },
     "metadata": {},
     "output_type": "display_data"
    }
   ],
   "source": [
    "# print confusion matrix\n",
    "cm = confusion_matrix(y_test, y_pred)\n",
    "\n",
    "plt.figure(figsize=(6,4))\n",
    "sns.heatmap(cm, annot=True, fmt=\"d\", cmap=\"Blues\", xticklabels=[\"Fake\", \"Real\"], yticklabels=[\"Fake\", \"Real\"])\n",
    "plt.xlabel(\"Predicted\")\n",
    "plt.ylabel(\"Actual\")\n",
    "plt.title(\"Confusion Matrix\")\n",
    "plt.show()"
   ]
  },
  {
   "cell_type": "code",
   "execution_count": 17,
   "id": "6b1a895e",
   "metadata": {
    "execution": {
     "iopub.execute_input": "2024-06-12T12:11:46.659644Z",
     "iopub.status.busy": "2024-06-12T12:11:46.659208Z",
     "iopub.status.idle": "2024-06-12T12:11:46.676465Z",
     "shell.execute_reply": "2024-06-12T12:11:46.675126Z"
    },
    "papermill": {
     "duration": 0.032282,
     "end_time": "2024-06-12T12:11:46.679433",
     "exception": false,
     "start_time": "2024-06-12T12:11:46.647151",
     "status": "completed"
    },
    "tags": []
   },
   "outputs": [
    {
     "name": "stdout",
     "output_type": "stream",
     "text": [
      "              precision    recall  f1-score   support\n",
      "\n",
      "           0       0.99      1.00      0.99        77\n",
      "           1       1.00      0.99      0.99        76\n",
      "\n",
      "    accuracy                           0.99       153\n",
      "   macro avg       0.99      0.99      0.99       153\n",
      "weighted avg       0.99      0.99      0.99       153\n",
      "\n"
     ]
    }
   ],
   "source": [
    "from sklearn.metrics import classification_report\n",
    "\n",
    "print(classification_report(y_test, y_pred))"
   ]
  }
 ],
 "metadata": {
  "kaggle": {
   "accelerator": "none",
   "dataSources": [
    {
     "datasetId": 3579787,
     "sourceId": 6358196,
     "sourceType": "datasetVersion"
    }
   ],
   "dockerImageVersionId": 30732,
   "isGpuEnabled": false,
   "isInternetEnabled": true,
   "language": "python",
   "sourceType": "notebook"
  },
  "kernelspec": {
   "display_name": "Python 3",
   "language": "python",
   "name": "python3"
  },
  "language_info": {
   "codemirror_mode": {
    "name": "ipython",
    "version": 3
   },
   "file_extension": ".py",
   "mimetype": "text/x-python",
   "name": "python",
   "nbconvert_exporter": "python",
   "pygments_lexer": "ipython3",
   "version": "3.10.13"
  },
  "papermill": {
   "default_parameters": {},
   "duration": 265.929163,
   "end_time": "2024-06-12T12:11:48.017879",
   "environment_variables": {},
   "exception": null,
   "input_path": "__notebook__.ipynb",
   "output_path": "__notebook__.ipynb",
   "parameters": {},
   "start_time": "2024-06-12T12:07:22.088716",
   "version": "2.5.0"
  }
 },
 "nbformat": 4,
 "nbformat_minor": 5
}
